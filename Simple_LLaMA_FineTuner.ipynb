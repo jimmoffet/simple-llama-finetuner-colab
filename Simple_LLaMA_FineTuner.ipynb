{
  "nbformat": 4,
  "nbformat_minor": 0,
  "metadata": {
    "colab": {
      "provenance": []
    },
    "kernelspec": {
      "name": "python3",
      "display_name": "Python 3"
    },
    "language_info": {
      "name": "python"
    },
    "accelerator": "GPU",
    "gpuClass": "standard"
  },
  "cells": [
    {
      "cell_type": "code",
      "execution_count": 1,
      "metadata": {
        "colab": {
          "base_uri": "https://localhost:8080/"
        },
        "id": "qe77im_2YudR",
        "outputId": "9a8f474b-4c29-463e-c36a-25e1e028c4b8"
      },
      "outputs": [],
      "source": [
        "!nvidia-smi"
      ]
    },
    {
      "cell_type": "code",
      "source": [
        "![[ -d /content/simple-llama-finetuner ]] \\\n",
        "  || git clone https://github.com/lxe/simple-llama-finetuner.git /content/simple-llama-finetuner\n",
        "!cd /content/simple-llama-finetuner && git pull && pip install -r requirements.txt"
      ],
      "metadata": {
        "colab": {
          "base_uri": "https://localhost:8080/"
        },
        "id": "3PM_DilAZD8T",
        "outputId": "83c6ff7e-518f-4ceb-ac9d-df22660f5ce5"
      },
      "execution_count": 2,
      "outputs": []
    },
    {
      "cell_type": "code",
      "source": [
        "!cd /content/simple-llama-finetuner && python main.py --share"
      ],
      "metadata": {
        "colab": {
          "base_uri": "https://localhost:8080/"
        },
        "id": "BD693wIzZKUK",
        "outputId": "a392bff4-9a5b-4c8f-ecd1-6751517cd254"
      },
      "execution_count": null,
      "outputs": []
    },
    {
      "cell_type": "code",
      "source": [],
      "metadata": {
        "id": "yhKSDrkKbYkG"
      },
      "execution_count": null,
      "outputs": []
    }
  ]
}
